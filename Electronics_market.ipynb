{
 "cells": [
  {
   "cell_type": "markdown",
   "id": "fec0797f",
   "metadata": {},
   "source": [
    "#  QUESTION 1 Load the dataset into pandas and provide a summary of columns in the loaded dataset without any modification.\n"
   ]
  },
  {
   "cell_type": "code",
   "execution_count": 1,
   "id": "55582085",
   "metadata": {},
   "outputs": [],
   "source": [
    "import pandas as pd #importing panda library \n",
    "import numpy as np #importing numpy library \n",
    "import seaborn as sns # importing seaborn library \n",
    "import matplotlib.pyplot as plt"
   ]
  },
  {
   "cell_type": "code",
   "execution_count": null,
   "id": "9ac2fa41",
   "metadata": {},
   "outputs": [],
   "source": [
    "import os \n",
    "os.getcwd()"
   ]
  },
  {
   "cell_type": "code",
   "execution_count": null,
   "id": "ba289ebf",
   "metadata": {
    "scrolled": true
   },
   "outputs": [],
   "source": [
    "df=pd.read_csv(\"Sales_April_2019.csv\") #reading the data set\n",
    "df #data set"
   ]
  },
  {
   "cell_type": "code",
   "execution_count": null,
   "id": "f996f16c",
   "metadata": {},
   "outputs": [],
   "source": [
    "#So in this data set we have 6 coloums of sales of  electronics products.\n",
    "#First Columns is of Order id and second column is of the product which is sold.\n",
    "#Third columns tell the quantity of the product which is ordered .\n",
    "#Fourth Column is of the price of the product.\n",
    "#Fifth Column depicts about the order date and time.And Six Column is of the address of the purchaser."
   ]
  },
  {
   "cell_type": "code",
   "execution_count": null,
   "id": "b4921b85",
   "metadata": {},
   "outputs": [],
   "source": [
    "df1=df.copy() #doing deep copy to keep a copy of orginial data set\n",
    "df1"
   ]
  },
  {
   "cell_type": "markdown",
   "id": "f0bdea8b",
   "metadata": {},
   "source": [
    "# Data Information"
   ]
  },
  {
   "cell_type": "code",
   "execution_count": null,
   "id": "43341fa4",
   "metadata": {},
   "outputs": [],
   "source": [
    "df.head(10) # Top 10 data of data set"
   ]
  },
  {
   "cell_type": "code",
   "execution_count": null,
   "id": "eb754c06",
   "metadata": {},
   "outputs": [],
   "source": [
    "df.tail(10) # Last 10 data of data set"
   ]
  },
  {
   "cell_type": "code",
   "execution_count": null,
   "id": "977c879b",
   "metadata": {},
   "outputs": [],
   "source": [
    "df.info() #to check the data type and null value"
   ]
  },
  {
   "cell_type": "markdown",
   "id": "5ab5299a",
   "metadata": {},
   "source": [
    "# QUESTION 2 :-Prepare the data frame for further analysis. Clean it, mold it in any manner you see fit."
   ]
  },
  {
   "cell_type": "code",
   "execution_count": null,
   "id": "d5f6ecf6",
   "metadata": {},
   "outputs": [],
   "source": [
    "# Data Cleaning\n",
    "#Since there may be a chance of dubplicate data and null value\n",
    "#So we have to find and drop it for further analaysis"
   ]
  },
  {
   "cell_type": "code",
   "execution_count": null,
   "id": "770b7df7",
   "metadata": {},
   "outputs": [],
   "source": [
    "#since there are  373700 products and 372610 are non-null count products so there must be null product.Lets confirm in the next step."
   ]
  },
  {
   "cell_type": "code",
   "execution_count": null,
   "id": "157e08e7",
   "metadata": {},
   "outputs": [],
   "source": [
    "df.isna().sum() #to check the total null value"
   ]
  },
  {
   "cell_type": "code",
   "execution_count": null,
   "id": "8b1cb85e",
   "metadata": {},
   "outputs": [],
   "source": [
    "#null value present in the data set so we have to drop it"
   ]
  },
  {
   "cell_type": "code",
   "execution_count": null,
   "id": "37fee51b",
   "metadata": {},
   "outputs": [],
   "source": [
    "nan_df = df[df.isna().any(axis=1)] \n",
    "nan_df.head()"
   ]
  },
  {
   "cell_type": "code",
   "execution_count": null,
   "id": "318231ee",
   "metadata": {},
   "outputs": [],
   "source": [
    "df.dropna(how='all',inplace=True) #dropping nan value\n",
    "df.isna().sum()              #checking if any nan value left"
   ]
  },
  {
   "cell_type": "code",
   "execution_count": null,
   "id": "4d207a1f",
   "metadata": {},
   "outputs": [],
   "source": [
    "#there is no Null values now."
   ]
  },
  {
   "cell_type": "code",
   "execution_count": null,
   "id": "04f7eaba",
   "metadata": {},
   "outputs": [],
   "source": [
    "df.duplicated().value_counts() #checking dublicate value"
   ]
  },
  {
   "cell_type": "code",
   "execution_count": null,
   "id": "a77ff137",
   "metadata": {},
   "outputs": [],
   "source": [
    "dfa=df.drop_duplicates(subset=None, keep='first', inplace=False) #droping the dubplicate values\n",
    "dfa"
   ]
  },
  {
   "cell_type": "code",
   "execution_count": null,
   "id": "44393ba4",
   "metadata": {},
   "outputs": [],
   "source": [
    "dfa.columns = ['Order_ID', 'Product', 'Quantity_Ordered', 'Price_Each', 'Order_Date', 'Purchase_Address']\n",
    "dfa.head()"
   ]
  },
  {
   "cell_type": "code",
   "execution_count": null,
   "id": "42ec346d",
   "metadata": {},
   "outputs": [],
   "source": [
    "dfa['Date'] = dfa['Order_Date'].str[:8]\n",
    "dfa"
   ]
  },
  {
   "cell_type": "code",
   "execution_count": null,
   "id": "793615a4",
   "metadata": {},
   "outputs": [],
   "source": [
    "dfa['Month'] = dfa['Order_Date'].str[:2] #making a spearate column for month\n",
    "dfa"
   ]
  },
  {
   "cell_type": "code",
   "execution_count": null,
   "id": "7b135e3c",
   "metadata": {},
   "outputs": [],
   "source": [
    "dfa[['House_No.','City','Pin_Code']] = dfa.Purchase_Address.str.split(\",\",expand=True)\n",
    "dfa"
   ]
  },
  {
   "cell_type": "code",
   "execution_count": null,
   "id": "7282ea52",
   "metadata": {},
   "outputs": [],
   "source": [
    "dfa.Month.value_counts() #to check the unique values #stucked here"
   ]
  },
  {
   "cell_type": "code",
   "execution_count": null,
   "id": "afa0aec0",
   "metadata": {},
   "outputs": [],
   "source": [
    "#Here we can see that \"Or\" value which is not a month so we are going to remove those rows which has Or values in Month Column"
   ]
  },
  {
   "cell_type": "code",
   "execution_count": null,
   "id": "54858ecb",
   "metadata": {},
   "outputs": [],
   "source": [
    "dfa = dfa[dfa['Month'].str[:2] != 'Or']\n",
    "dfa.head()"
   ]
  },
  {
   "cell_type": "code",
   "execution_count": null,
   "id": "d45d4e61",
   "metadata": {},
   "outputs": [],
   "source": [
    "dfa.shape"
   ]
  },
  {
   "cell_type": "code",
   "execution_count": null,
   "id": "cac40d82",
   "metadata": {},
   "outputs": [],
   "source": [
    "dfa['Month'] = dfa['Month'].astype('int32')\n",
    "dfa['Order_Date'] = pd.to_datetime(dfa['Order_Date'])\n",
    "dfa['Date'] = pd.to_datetime(dfa['Date'])\n",
    "dfa.info()"
   ]
  },
  {
   "cell_type": "code",
   "execution_count": null,
   "id": "a87c37b1",
   "metadata": {},
   "outputs": [],
   "source": [
    "dfa.Order_ID.value_counts()"
   ]
  },
  {
   "cell_type": "code",
   "execution_count": null,
   "id": "7c6585e0",
   "metadata": {},
   "outputs": [],
   "source": [
    "#orders are repeating so we cannot keep order id as index number"
   ]
  },
  {
   "cell_type": "code",
   "execution_count": null,
   "id": "4e479125",
   "metadata": {},
   "outputs": [],
   "source": [
    "dfa.Quantity_Ordered.value_counts()"
   ]
  },
  {
   "cell_type": "code",
   "execution_count": null,
   "id": "35f7cd07",
   "metadata": {},
   "outputs": [],
   "source": [
    "#All the values in Quantity Ordered column are Integer so have to convert it into Integer and Price Column to float."
   ]
  },
  {
   "cell_type": "code",
   "execution_count": null,
   "id": "e7568dc1",
   "metadata": {},
   "outputs": [],
   "source": [
    "dfa['Quantity_Ordered'] = dfa['Quantity_Ordered'].astype('int32')\n",
    "dfa['Price_Each'] = dfa['Price_Each'].astype('float64')\n",
    "dfa.info()"
   ]
  },
  {
   "cell_type": "code",
   "execution_count": null,
   "id": "596f38bd",
   "metadata": {},
   "outputs": [],
   "source": [
    "#now lets make the Sales column"
   ]
  },
  {
   "cell_type": "code",
   "execution_count": null,
   "id": "5398b325",
   "metadata": {},
   "outputs": [],
   "source": [
    "dfa['Sales'] = dfa['Quantity_Ordered'] * dfa['Price_Each']\n",
    "dfa"
   ]
  },
  {
   "cell_type": "markdown",
   "id": "148ba823",
   "metadata": {},
   "source": [
    "# Summary"
   ]
  },
  {
   "cell_type": "code",
   "execution_count": null,
   "id": "53040cf6",
   "metadata": {},
   "outputs": [],
   "source": [
    "# 1  In new data set we have separate coloumn for Time,date,Month,House_No., City, Pin_code\n",
    "# 2  In new data set we can see the Sales Coloumn where it tells the price of total shopping\n",
    "# 3  In data set all null values are eliminated\n",
    "# 4  In data set order_id is repeating so we cannot keep it as index number\n",
    "# 5  In old data set we had some null values,or in months all are cleaned in new data set.\n",
    "# 5 Duplicate Data is removed from old data set"
   ]
  },
  {
   "cell_type": "markdown",
   "id": "bb9df77b",
   "metadata": {},
   "source": [
    "# Which city had the highest sales overall?"
   ]
  },
  {
   "cell_type": "code",
   "execution_count": null,
   "id": "c127a6f8",
   "metadata": {},
   "outputs": [],
   "source": [
    "city_sales=dfa.City.value_counts()\n",
    "city_sales"
   ]
  },
  {
   "cell_type": "code",
   "execution_count": null,
   "id": "40068fb4",
   "metadata": {},
   "outputs": [],
   "source": [
    "#From the value we can predict clearly that San Francisco giving maximum sale then Los Angeles\n",
    "#lets plot the graph for clear view"
   ]
  },
  {
   "cell_type": "code",
   "execution_count": null,
   "id": "7ff64c84",
   "metadata": {},
   "outputs": [],
   "source": [
    "plt.figure(figsize=(16, 6))\n",
    "sns.countplot(x=dfa['City'])\n",
    "plt.xlabel(\"City Name\")\n",
    "plt.ylabel(\"Number of Sells\")\n",
    "plt.title(\"city vs Sales\")"
   ]
  },
  {
   "cell_type": "code",
   "execution_count": null,
   "id": "74d88606",
   "metadata": {},
   "outputs": [],
   "source": [
    "#As we can see that San Fransisco has the highest sales followed by Los Angels.\n",
    "#Austin City has lowest sales\n",
    "#Seattle and Dallas has almost equal number of sales"
   ]
  },
  {
   "cell_type": "markdown",
   "id": "a74cbee2",
   "metadata": {},
   "source": [
    "# Question 4.c Most bought products per city?."
   ]
  },
  {
   "cell_type": "code",
   "execution_count": null,
   "id": "adfb1cbf",
   "metadata": {},
   "outputs": [],
   "source": [
    "result2=dfa.groupby('City').sum()\n",
    "result2\n"
   ]
  },
  {
   "cell_type": "code",
   "execution_count": null,
   "id": "474cea03",
   "metadata": {},
   "outputs": [],
   "source": [
    "resultab = dfa.groupby('City')['Sales'].sum()\n",
    "resultab"
   ]
  },
  {
   "cell_type": "code",
   "execution_count": null,
   "id": "475908f6",
   "metadata": {},
   "outputs": [],
   "source": [
    "cities=dfa['City'].unique()\n",
    "cities"
   ]
  },
  {
   "cell_type": "code",
   "execution_count": null,
   "id": "f818045f",
   "metadata": {},
   "outputs": [],
   "source": [
    "cities=dfa['City'].unique()\n",
    "cities = sorted(cities)\n",
    "plt.bar(cities,result2['Sales'])\n",
    "plt.xticks(cities, rotation='vertical',size =8)\n",
    "label,location = plt.yticks()\n",
    "plt.ylabel('Sales in Million USD')\n",
    "plt.xlabel('City Name')\n",
    "plt.show()"
   ]
  },
  {
   "cell_type": "markdown",
   "id": "6e46d2f7",
   "metadata": {},
   "source": [
    "# Q5 Find out the distribution of sales over different times of the day (Morning, Afternoon, Evening, Night) and answer the following for each city"
   ]
  },
  {
   "cell_type": "code",
   "execution_count": null,
   "id": "a13c418e",
   "metadata": {},
   "outputs": [],
   "source": [
    "dfa['Hour'] = dfa.Order_Date.dt.hour\n"
   ]
  },
  {
   "cell_type": "code",
   "execution_count": null,
   "id": "64251b6d",
   "metadata": {},
   "outputs": [],
   "source": [
    "dfa.groupby('Hour').count()"
   ]
  },
  {
   "cell_type": "code",
   "execution_count": null,
   "id": "1065d71c",
   "metadata": {},
   "outputs": [],
   "source": [
    "hours = [hour for hour, dfa in dfa.groupby('Hour')]\n",
    "plt.plot(hours, dfa.groupby('Hour').count())\n",
    "plt.grid(True)\n",
    "plt.xticks(hours)\n",
    "plt.xlabel('Hours in 24 Hr Format')\n",
    "plt.ylabel('Orders')\n",
    "plt.show()"
   ]
  },
  {
   "cell_type": "code",
   "execution_count": null,
   "id": "03d0c4c9",
   "metadata": {},
   "outputs": [],
   "source": [
    "# 7pm most orders are placed because people like shopping after office or in the evening\n",
    "# 3am -4 am is least  because most people must be sleeping\n",
    "# 11am-12 noon is maximum after 7 pm \n",
    "# store should come with offer and discount in the night and early morning to encourage shopping "
   ]
  },
  {
   "cell_type": "markdown",
   "id": "d28684a5",
   "metadata": {},
   "source": [
    "# Q6 Find out the pair of products that are most sold together. For example, generally, we would expect a person who buys an iPhone 11 to also buy the Apple Airpods together with it. Identify such pairs of products and suggest what promotional offers should the retail company come up with based on your outcome?.\n",
    " "
   ]
  },
  {
   "cell_type": "code",
   "execution_count": null,
   "id": "8fc2723d",
   "metadata": {},
   "outputs": [],
   "source": [
    "order = dfa[dfa['Order_ID'].duplicated(keep = False)] \n",
    "order"
   ]
  },
  {
   "cell_type": "code",
   "execution_count": null,
   "id": "2ec3eb2a",
   "metadata": {},
   "outputs": [],
   "source": [
    "order['Ordered Together'] = order.groupby('Order_ID')['Product'].transform(lambda x : ','.join(x))\n",
    "order = order[['Order_ID','Ordered Together']].drop_duplicates()\n",
    "order.head(10)"
   ]
  },
  {
   "cell_type": "code",
   "execution_count": null,
   "id": "8af91dea",
   "metadata": {},
   "outputs": [],
   "source": [
    "from itertools import combinations\n",
    "from collections import Counter \n",
    "\n",
    "count = Counter() #the Counter object 'count' is used to count the occurrences of elements in the 'data_list'\n",
    "\n",
    "for row in order['Ordered Together']:\n",
    "    items = row.split(',')\n",
    "    count.update(Counter(combinations(items,2))) # Most Common Pair of Products Bought Together.\n",
    "\n",
    "for key, value in count.most_common(10): # Top 10 Products Pair Bought Together.\n",
    "    print(key,value)"
   ]
  },
  {
   "cell_type": "code",
   "execution_count": null,
   "id": "1bf61885",
   "metadata": {},
   "outputs": [],
   "source": [
    "# As we can see that iphone and light charging cabel is the most sold product as a pair.\n",
    "# This can be because company doesnot provide charger while selling the phone\n",
    "# second most sold product is usb c charging cabel and google phone\n"
   ]
  },
  {
   "cell_type": "code",
   "execution_count": null,
   "id": "355aed84",
   "metadata": {},
   "outputs": [],
   "source": [
    "product_group = dfa.groupby('Product')\n",
    "\n",
    "quantity_ordered = product_group.sum()['Quantity_Ordered']\n",
    "\n",
    "products = [product for product, detail in product_group]"
   ]
  },
  {
   "cell_type": "code",
   "execution_count": null,
   "id": "74d4c5ae",
   "metadata": {},
   "outputs": [],
   "source": [
    "plt.figure(figsize = (20,5))\n",
    "plt.bar(products, quantity_ordered)\n",
    "\n",
    "plt.xticks(products, rotation = 'vertical')\n",
    "\n",
    "plt.title('Most Sold Products')\n",
    "\n",
    "plt.xlabel('Products')\n",
    "\n",
    "plt.ylabel('Quantity of Products');"
   ]
  },
  {
   "cell_type": "code",
   "execution_count": null,
   "id": "2128a3be",
   "metadata": {},
   "outputs": [],
   "source": [
    "# as we can see that aa and aaa batteries are most sold because we need it many uses.\n",
    "# second the charging cabels are most sold because its malfunction more often so we need it regularly\n",
    "# wired phone and apple airpods are also sold well\n",
    "# so accessories are most sold \n",
    "#in mobile is vareebadd phone may be because its not good \n",
    "# lg company dryer and washing machine is least sale \n",
    "#so lg company is not doing well across all the city\n",
    "#Offers:-\n",
    "#lg company should come with offers to inrease there sales\n",
    "#iphone should give chariging cables which may increases it sales\n",
    "#lg can come with promotional offer by giving dryer free along with the washing machine.\n"
   ]
  },
  {
   "cell_type": "markdown",
   "id": "fd995507",
   "metadata": {},
   "source": [
    "# Conclusion"
   ]
  },
  {
   "cell_type": "code",
   "execution_count": null,
   "id": "2c0aebb2",
   "metadata": {},
   "outputs": [],
   "source": [
    "# 1. data set are loaded\n",
    "# 1a  It has  column of order id, quantity,order date addresss,price ,product\n",
    "# 2  data is prepared for further analysis\n",
    "# 2a Nan value present in data set are dropped\n",
    "# 2b  Dublpicate values are deleted\n",
    "# 2c  Column name are changed for better analysis\n",
    "# 2d  Pincode ,city name are extracted and  given separate column\n",
    "# 2e   separate sales column are made for further analysis\n",
    "# 3 In new data set we donot have any nan values,dublicate values, we have separat column of sales,pincode,city.\n",
    "# 3b  data types are changed of Order_ID for analysis\n",
    "# 4q San Fransisco is the city where most sells are happening\n",
    "# 4b New york city selling more products.\n",
    "# 5 Most sales occuring at 7 evening may be because people like to shop in the evening.\n",
    " # 5.1 After 7pm its between 11am to 12 noon where most sales are happening.\n",
    " # 5.2 sales are least in 4 am morning which and decrease after 7pm so stores should offer some discount in night to increase sales at nigh\n",
    "\n",
    "# 6 iphone and charging cables are most sold product together.\n",
    "# 6.this is because iphone not giving charging cables along with mobile\n",
    "# 6. lg items have least sales so company should offer discount.\\\n",
    "# 6. Accesories like headphone,charging cable, aa and aaa batteries are most sold item may be because of its  less durabiltiy.\n",
    "# 6. There should be promotional offer like lg washing machine should offer lg dryer to increase its sales\n",
    "# 6 veerband phone should offer discount or  free headphone and charging cabels.\n",
    "\n",
    "\n",
    " \n"
   ]
  },
  {
   "cell_type": "code",
   "execution_count": null,
   "id": "e8fa7b41",
   "metadata": {},
   "outputs": [],
   "source": []
  }
 ],
 "metadata": {
  "kernelspec": {
   "display_name": "Python 3 (ipykernel)",
   "language": "python",
   "name": "python3"
  },
  "language_info": {
   "codemirror_mode": {
    "name": "ipython",
    "version": 3
   },
   "file_extension": ".py",
   "mimetype": "text/x-python",
   "name": "python",
   "nbconvert_exporter": "python",
   "pygments_lexer": "ipython3",
   "version": "3.11.3"
  }
 },
 "nbformat": 4,
 "nbformat_minor": 5
}
